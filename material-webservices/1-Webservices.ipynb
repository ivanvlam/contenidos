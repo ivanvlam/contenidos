{
 "cells": [
  {
   "cell_type": "markdown",
   "metadata": {
    "slideshow": {
     "slide_type": "slide"
    }
   },
   "source": [
    "<p>\n",
    "<font size='5' face='Georgia, Arial'>IIC-2233 Apunte Programación Avanzada</font><br>\n",
    "<font size='1'> Material creado por Equipo Docente IIC2233. Modificado en 2021-1 por Equipo Docente IIC2233</font>\n",
    "</p>"
   ]
  },
  {
   "cell_type": "markdown",
   "metadata": {
    "slideshow": {
     "slide_type": "slide"
    }
   },
   "source": [
    "Durante el capítulo de _networking_ aprendimos el uso de *sockets* y algunos protocolos para establecer la comunicación a través de una arquitectura cliente-servidor. En este capítulo, revisaremos la comunicación entre dos dispositivos mediate la **web**. "
   ]
  },
  {
   "cell_type": "markdown",
   "metadata": {
    "slideshow": {
     "slide_type": "fragment"
    }
   },
   "source": [
    "**_Web services_** es el conjunto de aplicaciones cliente-servidor que se comunican a través de la web mediante un protocolo diseñado para ello. Podemos ver este tipo de servicios como aplicaciones que pueden ser accedidas por otras aplicaciones a través de una red de computadores (internet). "
   ]
  },
  {
   "cell_type": "markdown",
   "metadata": {
    "slideshow": {
     "slide_type": "notes"
    }
   },
   "source": [
    "Por ejemplo, cuando nuestro navegador (cliente) consume un sitio web (servidor), por cada **llamada al servidor**, una aplicación escrita en algún lenguaje de programación **envía una respuesta** en HTML para que nuestro navegador la despliegue. Los _web services_ funcionan de forma similar, donde la salida está dirigida a una **aplicación que consume** esta información. Para que la comunicación sea posible, el formato de los mensajes debe ser conocido para que la información pueda ser interpretada correctamente."
   ]
  },
  {
   "cell_type": "markdown",
   "metadata": {
    "slideshow": {
     "slide_type": "slide"
    }
   },
   "source": [
    "## API (*Application Programming Interface*)"
   ]
  },
  {
   "cell_type": "markdown",
   "metadata": {
    "slideshow": {
     "slide_type": "slide"
    }
   },
   "source": [
    "En general se conoce como **API** al conjunto de funciones que son expuestos por un servicio para ser utilizados por otros programas. Este servicio puede ser un _web service_ o cualquier paquete que exponga una interfaz de consumo, por ejemplo una librería de Python. Sin embargo, en este capítulo cuando hablemos de API nos estaremos refiriendo a los métodos expuestos por un servicio web (un _web service_)."
   ]
  },
  {
   "cell_type": "markdown",
   "metadata": {
    "slideshow": {
     "slide_type": "slide"
    }
   },
   "source": [
    "Este tipo de aplicaciones (APIs) es uno de los más comunes hoy en día, ya que permite conectar distintas aplicaciones entre servidores remotos (en distintos computadores)."
   ]
  },
  {
   "cell_type": "markdown",
   "metadata": {
    "slideshow": {
     "slide_type": "fragment"
    }
   },
   "source": [
    "En una red de computadores, cada página web de internet es almacenada en un servidor remoto. Un servidor remoto es simplemente un computador optimizado para procesar _requests_. "
   ]
  },
  {
   "cell_type": "markdown",
   "metadata": {
    "slideshow": {
     "slide_type": "fragment"
    }
   },
   "source": [
    "Tú mismo puedes utilizar tu propio computador para servir un sitio web. De hecho, los desarrolladores de *software* usan sus propios computadores como servidores locales al crear sitios web antes de publicarlos al mundo."
   ]
  },
  {
   "cell_type": "markdown",
   "metadata": {
    "slideshow": {
     "slide_type": "notes"
    }
   },
   "source": [
    "Cuando escribes https://www.facebook.com en tu navegador, este envía una _request_ a un servidor remoto de Facebook. Una vez que tu navegador recibe la respuesta del servidor, este la interpreta y despliega una página para ti.\n",
    "\n",
    "Para el navegador (cliente), el servidor de Facebook es una API. Esto significa que cada vez que tú visitas una página en la web, tú interactúas con alguna API en un servidor remoto. Una API no es lo mismo que un servidor remoto, pero es la parte de este que recibe las _requests_ y envía _responses_.\n",
    "\n",
    "Si cada objeto tecnológico de tu casa expusiera una API, podrías controlarla completamente desde tu celular o desde cualquier programa en Python u otro lenguaje (ver más en [internet de las cosas](https://es.wikipedia.org/wiki/Internet_de_las_cosas))."
   ]
  },
  {
   "cell_type": "markdown",
   "metadata": {
    "slideshow": {
     "slide_type": "slide"
    }
   },
   "source": [
    "## HTTP (**_Hypertext Transfer Protocol_**)"
   ]
  },
  {
   "cell_type": "markdown",
   "metadata": {
    "slideshow": {
     "slide_type": "slide"
    }
   },
   "source": [
    "Gran parte de las arquitecturas de _web services_ se basan en el uso del protocolo **HTTP**. Este protocolo de aplicación está encargado de proporcionar una capa para realización de transacciones y así permitir la comunicación entre clientes y servidores. HTTP trabaja como un protocolo **_request-response_** en donde el cliente hace una solicitud (*request*) y el servidor responde con la información solicitada (*response*). "
   ]
  },
  {
   "cell_type": "markdown",
   "metadata": {
    "slideshow": {
     "slide_type": "subslide"
    }
   },
   "source": [
    "HTTP es un protocolo en el que el servidor no guarda ninguna información de las conexiones. Por ejemplo, al acceder a métodos de un servicio web que requiere identificación del cliente, este deberá en cada consulta enviar **algo** que acredite su identidad. "
   ]
  },
  {
   "cell_type": "markdown",
   "metadata": {
    "slideshow": {
     "slide_type": "notes"
    }
   },
   "source": [
    "El funcionamiento de este protocolo se basa en la definición de métodos o verbos que indican la acción a desarrollar por un determinado recurso. Los recursos pueden ser datos existentes en el servidor (*e.g.* archivos) o bien una salida generada dinámicamente. "
   ]
  },
  {
   "cell_type": "markdown",
   "metadata": {
    "slideshow": {
     "slide_type": "slide"
    }
   },
   "source": [
    "La versión HTTP/1.1 incluye **cinco** verbos que reflejan una acción:\n",
    "\n",
    "- `GET`: recupera una representación de un recurso sin cambiar nada en el servidor.\n",
    "- `POST`: crea un recurso.\n",
    "- `PATCH`: aplica modificaciones parciales a un recurso.\n",
    "- `PUT`: reemplaza completamente un recurso existente.\n",
    "- `DELETE`: elimina un recurso."
   ]
  },
  {
   "cell_type": "markdown",
   "metadata": {
    "slideshow": {
     "slide_type": "notes"
    }
   },
   "source": [
    "HTTP consta también con una conjunto de códigos de estado mediante los cuales entrega información al cliente sobre el resultado de su petición."
   ]
  },
  {
   "cell_type": "markdown",
   "metadata": {
    "slideshow": {
     "slide_type": "slide"
    }
   },
   "source": [
    "Algunos códigos comunes de respuesta son:\n",
    "\n",
    "- `200` : OK. Solicitud exitosa.\n",
    "- `403` : Prohibido. La petición es aceptada, pero servidor rechaza responderla.\n",
    "- `404` : No encontrado. El recurso solicitado no ha sido encontrado.\n",
    "- `500` : Error interno del servidor.\n",
    "\n",
    "Para más detalle de los códigos pueden revisar el siguiente [enlace]( http://www.w3schools.com/tags/ref_httpmessages.asp)."
   ]
  },
  {
   "cell_type": "markdown",
   "metadata": {
    "slideshow": {
     "slide_type": "notes"
    }
   },
   "source": [
    "La siguiente figura muestra un ejemplo con la estructura de los mensaje HTTP para el *request* del cliente y para el *response* desde el servidor."
   ]
  },
  {
   "cell_type": "markdown",
   "metadata": {
    "slideshow": {
     "slide_type": "slide"
    }
   },
   "source": [
    "![](imgs/http_message.png)"
   ]
  },
  {
   "cell_type": "markdown",
   "metadata": {
    "slideshow": {
     "slide_type": "slide"
    }
   },
   "source": [
    "## _Client-side script_"
   ]
  },
  {
   "cell_type": "markdown",
   "metadata": {
    "slideshow": {
     "slide_type": "fragment"
    }
   },
   "source": [
    "En esta sección veremos desde el punto de vista del cliente como hacer solicitudes o _requests_ a un servidor que mantiene un servicio web. En Python, la librería `requests` nos permite interactuar con servicios disponibles en algún _web service_. Además, la librería tiene integrada los métodos para serialización en JSON."
   ]
  },
  {
   "cell_type": "markdown",
   "metadata": {},
   "source": [
    "Para instalar la librería `requests`, en cualquier terminal debes correr el comando `pip3 install requests`. Otra opción, es ejecutar la siguiente celda, que instalará la librería en el mismo entorno en que estés corriendo este jupyter (de todas maneras recomendamos instalarlo desde la consola):"
   ]
  },
  {
   "cell_type": "code",
   "execution_count": 3,
   "metadata": {},
   "outputs": [
    {
     "name": "stdout",
     "output_type": "stream",
     "text": [
      "Requirement already satisfied: requests in /opt/homebrew/lib/python3.9/site-packages (2.26.0)\n",
      "Requirement already satisfied: urllib3<1.27,>=1.21.1 in /opt/homebrew/lib/python3.9/site-packages (from requests) (1.26.6)\n",
      "Requirement already satisfied: certifi>=2017.4.17 in /opt/homebrew/lib/python3.9/site-packages (from requests) (2021.5.30)\n",
      "Requirement already satisfied: charset-normalizer~=2.0.0 in /opt/homebrew/lib/python3.9/site-packages (from requests) (2.0.1)\n",
      "Requirement already satisfied: idna<4,>=2.5 in /opt/homebrew/lib/python3.9/site-packages (from requests) (3.2)\n",
      "\u001b[33mWARNING: You are using pip version 21.0.1; however, version 21.1.3 is available.\n",
      "You should consider upgrading via the '/opt/homebrew/opt/python@3.9/bin/python3.9 -m pip install --upgrade pip' command.\u001b[0m\n"
     ]
    }
   ],
   "source": [
    "!pip3 install requests"
   ]
  },
  {
   "cell_type": "markdown",
   "metadata": {
    "slideshow": {
     "slide_type": "slide"
    }
   },
   "source": [
    "Para generar una petición mediante `GET` usamos el método `get(url)` que recibe por argumento el llamado al recurso."
   ]
  },
  {
   "cell_type": "code",
   "execution_count": 5,
   "metadata": {
    "scrolled": true,
    "slideshow": {
     "slide_type": "fragment"
    }
   },
   "outputs": [],
   "source": [
    "import requests\n",
    "\n",
    "# Esta url contiene la dirección del web service \n",
    "# y los parámetros que se requiren para la consulta\n",
    "url = 'https://api.github.com/repos/IIC2233/Syllabus/issues/122'\n",
    "response = requests.get(url)"
   ]
  },
  {
   "cell_type": "code",
   "execution_count": 6,
   "metadata": {
    "slideshow": {
     "slide_type": "slide"
    }
   },
   "outputs": [
    {
     "name": "stdout",
     "output_type": "stream",
     "text": [
      "Status: 200\n"
     ]
    }
   ],
   "source": [
    "print(f'Status: {response.status_code}')"
   ]
  },
  {
   "cell_type": "code",
   "execution_count": 7,
   "metadata": {
    "slideshow": {
     "slide_type": "fragment"
    }
   },
   "outputs": [
    {
     "name": "stdout",
     "output_type": "stream",
     "text": [
      "* [x] Leí las reglas del foro (https://github.com/IIC2233/syllabus/issues/1)\r\n",
      "* [x] Busqué en las *issues* si ya preguntaron mi duda y no encontré nada parecido (https://github.com/IIC2233/syllabus/issues)\r\n",
      "* [x] Revisé el compilado de dudas de la tarea y no encontré una *issue* similar a la mía (https://github.com/IIC2233/syllabus/issues/45)\r\n",
      "* [x] Mi duda no se trata sobre una librería, *built-in* o mala práctica, ya que eso se pregunta en la *issue* creada para ello.\r\n",
      "* [x] Mi duda no se trata de un tema administrativo o personal, ya que en ese caso debo contactar a mi profe, al Jefe de Bienestar o al correo del curso (https://iic2233.github.io/contacto/)\r\n",
      "* [x] Utilizaré un título descriptivo y llenaré correctamente esta plantilla\r\n",
      "* [x] De ser necesario, solo colocaré código simple que permita explicar mi problema o duda, ya que compartir código de esta evaluación puede ser considerado copia\r\n",
      "\r\n",
      "### Titulo, y qué otras restricciones tienen, además de deber comenzar con 2 o más personas?\n"
     ]
    }
   ],
   "source": [
    "# El output de esta respuesta particular\n",
    "# puede ser parseada desde JSON a dict\n",
    "print(response.json()['body'])"
   ]
  },
  {
   "cell_type": "markdown",
   "metadata": {
    "slideshow": {
     "slide_type": "slide"
    }
   },
   "source": [
    "**Así como esta API, existen muchas otras. No todas responden en formato JSON.**"
   ]
  },
  {
   "cell_type": "code",
   "execution_count": 8,
   "metadata": {
    "slideshow": {
     "slide_type": "fragment"
    }
   },
   "outputs": [
    {
     "data": {
      "text/plain": [
       "(200, '186.106.184.178')"
      ]
     },
     "execution_count": 8,
     "metadata": {},
     "output_type": "execute_result"
    }
   ],
   "source": [
    "# Podemos usar una API para obtener nuestra IP pública\n",
    "# Notar que no estamos parseando a JSON\n",
    "response = requests.get('https://api.ipify.org')\n",
    "ip = response.text\n",
    "response.status_code, ip"
   ]
  },
  {
   "cell_type": "code",
   "execution_count": 9,
   "metadata": {
    "slideshow": {
     "slide_type": "fragment"
    }
   },
   "outputs": [
    {
     "data": {
      "text/plain": [
       "(200, '-33.376500,-70.524100')"
      ]
     },
     "execution_count": 9,
     "metadata": {},
     "output_type": "execute_result"
    }
   ],
   "source": [
    "# Podemos ahora usar una API para obtener la latitud y \n",
    "# longitud en la que nos encontramos al momento de correr este código\n",
    "response = requests.get(f'https://ipapi.co/{ip}/latlong/')\n",
    "response.status_code, response.text"
   ]
  },
  {
   "cell_type": "markdown",
   "metadata": {
    "slideshow": {
     "slide_type": "slide"
    }
   },
   "source": [
    "Por temas de seguridad, muchas de las APIs públicas necesitan una llave/clave para poder utilizarlas. Para conseguir estas _keys_ en general debes crearte una cuenta. De esta forma se mantiene control de la aplicación expuesta, quiénes están accediendo a ella, con qué frecuencia, etc."
   ]
  },
  {
   "cell_type": "code",
   "execution_count": 12,
   "metadata": {
    "slideshow": {
     "slide_type": "fragment"
    }
   },
   "outputs": [],
   "source": [
    "# Además, podemos usar otra API para ver más descripciones de la IP utilizada\n",
    "url = 'http://api.ipstack.com/'\n",
    "# En este caso puedes usar esta `API_KEY` para probar\n",
    "API_KEY = 'c657ed216cf3e05d129bd6b2ccb8589e'\n",
    "# Recibe la API_KEY como parámetro\n",
    "\n",
    "# Esto puede ser enviado de dos formas:\n",
    "\n",
    "# 1. Agregando los parámetros en la URL:\n",
    "pais = requests.get('{}/{}?access_key={}'.format(url, ip, API_KEY))\n",
    "\n",
    "# 2. Pasando los parámetros en el método:\n",
    "pais = requests.get(f'{url}/{ip}', params={'access_key': API_KEY})"
   ]
  },
  {
   "cell_type": "code",
   "execution_count": 13,
   "metadata": {
    "slideshow": {
     "slide_type": "slide"
    }
   },
   "outputs": [
    {
     "data": {
      "text/plain": [
       "200"
      ]
     },
     "execution_count": 13,
     "metadata": {},
     "output_type": "execute_result"
    }
   ],
   "source": [
    "pais.status_code"
   ]
  },
  {
   "cell_type": "code",
   "execution_count": 14,
   "metadata": {
    "slideshow": {
     "slide_type": "fragment"
    }
   },
   "outputs": [
    {
     "data": {
      "text/plain": [
       "{'date': 'Wed, 14 Jul 2021 03:14:46 GMT', 'content-type': 'application/json; Charset=UTF-8', 'transfer-encoding': 'chunked', 'x-apilayer-transaction-id': 'd1c14bee-91d2-4cc7-9e24-839805519886', 'access-control-allow-methods': 'GET, HEAD, POST, PUT, PATCH, DELETE, OPTIONS', 'access-control-allow-origin': '*', 'x-request-time': '0.017'}"
      ]
     },
     "execution_count": 14,
     "metadata": {},
     "output_type": "execute_result"
    }
   ],
   "source": [
    "pais.headers"
   ]
  },
  {
   "cell_type": "code",
   "execution_count": 15,
   "metadata": {
    "slideshow": {
     "slide_type": "slide"
    }
   },
   "outputs": [
    {
     "data": {
      "text/plain": [
       "{'ip': '186.106.184.178',\n",
       " 'type': 'ipv4',\n",
       " 'continent_code': 'SA',\n",
       " 'continent_name': 'South America',\n",
       " 'country_code': 'CL',\n",
       " 'country_name': 'Chile',\n",
       " 'region_code': 'BI',\n",
       " 'region_name': 'Biobío',\n",
       " 'city': 'Penco',\n",
       " 'zip': None,\n",
       " 'latitude': -36.779998779296875,\n",
       " 'longitude': -73.0199966430664,\n",
       " 'location': {'geoname_id': 3876664,\n",
       "  'capital': 'Santiago',\n",
       "  'languages': [{'code': 'es', 'name': 'Spanish', 'native': 'Español'}],\n",
       "  'country_flag': 'http://assets.ipstack.com/flags/cl.svg',\n",
       "  'country_flag_emoji': '🇨🇱',\n",
       "  'country_flag_emoji_unicode': 'U+1F1E8 U+1F1F1',\n",
       "  'calling_code': '56',\n",
       "  'is_eu': False}}"
      ]
     },
     "execution_count": 15,
     "metadata": {},
     "output_type": "execute_result"
    }
   ],
   "source": [
    "# En este caso la API sí retorna un JSON\n",
    "pais.json()"
   ]
  },
  {
   "cell_type": "markdown",
   "metadata": {
    "slideshow": {
     "slide_type": "notes"
    }
   },
   "source": [
    "En el caso de la API con la que hemos estado haciendo prueba, solo ofrece servicios para realizar consultas, lo que se puede llevar a cabo perfectamente solo utilizando el método `GET` del protocolo HTTP. Sin embargo, muchas veces queremos crear recursos en nuestro servidor, como por ejemplo crear un nuevo artículo para un _blog_, y para esto debemos utilizar el método `POST` del protocolo.\n",
    "\n",
    "La API de JSONPlaceholder nos permite simular el uso de una API real, sin que verdaderamente exista un servicio detrás de esta. En este caso la utilizaremos para simular la creación de un artículo para un _blog_. En la práctica no estará ocurriendo nada en el servidor, puesto que es solo una simulación, pero en la vida real uno esperaría que como respuesta a nuestro _request_ se cree una entrada en la base de datos de el servicio que estamos utilizando. Pueden ver más información de como usar esta API [aquí](https://jsonplaceholder.typicode.com/)."
   ]
  },
  {
   "cell_type": "markdown",
   "metadata": {
    "slideshow": {
     "slide_type": "slide"
    }
   },
   "source": [
    "A diferencia del método `GET`, cuando utilizamos el método `POST` podemos enviar información a la API utilizando el parámetro `data`, al cual podemos pasarle un diccionario de Python con la información que queremos enviar. Para este ejemplo debemos enviar la información de un artículo noticioso que queremos crear."
   ]
  },
  {
   "cell_type": "code",
   "execution_count": 16,
   "metadata": {
    "slideshow": {
     "slide_type": "slide"
    }
   },
   "outputs": [],
   "source": [
    "# Extracto de un artículo proveniente del blog https://venezolanoenchile.com/2016/01/20/como-es-el-clima-en-santiago-de-chile/\n",
    "cuerpo = 'El clima de Santiago es muy extraño para los que venimos de un país tropical como Venezuela y, más aún, para los que vivíamos en Maracaibo, como yo.\\nUn día de verano, mientras caminaba a eso de las 2pm hacia mi trabajo, me puse a pensar en los temas que no he tocado aún en el blog. En ese momento, con 32°C de temperatura y bajo el sol, decidí escribir sobre este tema.\\nChile es un país que tiene muchos tipos de clima, desde el desértico hasta el frío antártico. Pero como yo no conozco ninguna otra ciudad de Chile que no sea Santiago, todo lo que diré a continuación será de la capital.'\n",
    "\n",
    "data = {\n",
    "    'title': '¿Cómo es el clima en Santiago de Chile?',\n",
    "    'body': cuerpo,\n",
    "    'userId': 1,\n",
    "}\n",
    "\n",
    "noticia = requests.post('https://jsonplaceholder.typicode.com/posts', data=data)"
   ]
  },
  {
   "cell_type": "code",
   "execution_count": 17,
   "metadata": {
    "slideshow": {
     "slide_type": "slide"
    }
   },
   "outputs": [
    {
     "name": "stdout",
     "output_type": "stream",
     "text": [
      "201\n",
      "Created\n",
      "{'title': '¿Cómo es el clima en Santiago de Chile?', 'body': 'El clima de Santiago es muy extraño para los que venimos de un país tropical como Venezuela y, más aún, para los que vivíamos en Maracaibo, como yo.\\nUn día de verano, mientras caminaba a eso de las 2pm hacia mi trabajo, me puse a pensar en los temas que no he tocado aún en el blog. En ese momento, con 32°C de temperatura y bajo el sol, decidí escribir sobre este tema.\\nChile es un país que tiene muchos tipos de clima, desde el desértico hasta el frío antártico. Pero como yo no conozco ninguna otra ciudad de Chile que no sea Santiago, todo lo que diré a continuación será de la capital.', 'userId': '1', 'id': 101}\n"
     ]
    }
   ],
   "source": [
    "# Vemos que obtenemos un código de que nuestro artículo fue creado\n",
    "print(noticia.status_code)\n",
    "print(noticia.reason)\n",
    "\n",
    "# Esta API nos retorna un JSON con el mismo recurso creado, notese que se le asignó un id al artículo\n",
    "print(noticia.json())"
   ]
  },
  {
   "cell_type": "markdown",
   "metadata": {
    "slideshow": {
     "slide_type": "slide"
    }
   },
   "source": [
    "## _Server-side App_"
   ]
  },
  {
   "cell_type": "markdown",
   "metadata": {
    "slideshow": {
     "slide_type": "fragment"
    }
   },
   "source": [
    "La misión principal del servidor es disponer el contenido de un sitio web para que pueda ser consultado mediante un _web service_. La aplicación que corre en el servidor es la encargada de la lógica e interacción entre cliente-servidor. La información que viaja entre un cliente y un servidor permite generar comunicación entre aplicaciones."
   ]
  },
  {
   "cell_type": "markdown",
   "metadata": {
    "slideshow": {
     "slide_type": "slide"
    }
   },
   "source": [
    "Una aplicación puede estar desarrollada en cualquier lenguaje de programación que permita exponer una API para ser consumida por otras aplicaciones a través de la web. Por ejemplo, podemos tener una aplicación corriendo en Java, y desde nuestro código en Python acceder a esa API."
   ]
  },
  {
   "cell_type": "markdown",
   "metadata": {
    "slideshow": {
     "slide_type": "fragment"
    }
   },
   "source": [
    "En Python existen varios _frameworks_ de programación para exponer APIs. Por ejemplo, **Flask** y **Django**. Además, puedes montar tus aplicaciones en servicios o servidores ya disponibles en la web, provistos como Platform-as-a-Service (PaaS) o Infrastructure-as-a-Service (IaaS). Por ejemplo, puedes usar **Heroku** (PaaS), **Digital Ocean** (IaaS), o **Microsoft Azure** (PaaS) para disponer tus APIs en una red pública con alta disponibilidad."
   ]
  },
  {
   "cell_type": "markdown",
   "metadata": {
    "slideshow": {
     "slide_type": "slide"
    }
   },
   "source": [
    "A modo de ejemplo, Antonio Ossa escribió hace algunos años, una API utilizando **Flask** y montada en **Heroku**."
   ]
  },
  {
   "cell_type": "markdown",
   "metadata": {
    "slideshow": {
     "slide_type": "fragment"
    }
   },
   "source": [
    "Esta API mantiene una base de datos de una versión ficticia del curso, donde alumnos pueden registrarse en distintas secciones.\n",
    "\n",
    "Además, permite enviar código escrito en Python para que sea **arreglado** para que siga algunas reglas de PEP8."
   ]
  },
  {
   "cell_type": "code",
   "execution_count": 18,
   "metadata": {
    "slideshow": {
     "slide_type": "slide"
    }
   },
   "outputs": [
    {
     "data": {
      "text/plain": [
       "200"
      ]
     },
     "execution_count": 18,
     "metadata": {},
     "output_type": "execute_result"
    }
   ],
   "source": [
    "# La URL base de la API creada\n",
    "BASE_URL = \"https://api-iic2233.herokuapp.com/{}\"\n",
    "\n",
    "# Podemos consultas por las secciones del curso\n",
    "secciones = requests.get(BASE_URL.format(\"secciones\"))\n",
    "secciones.status_code"
   ]
  },
  {
   "cell_type": "code",
   "execution_count": 19,
   "metadata": {
    "slideshow": {
     "slide_type": "fragment"
    }
   },
   "outputs": [
    {
     "name": "stdout",
     "output_type": "stream",
     "text": [
      "{'profesor': 'Fernando Florenzano', 'sala': 'K201', 'seccion': 1}\n",
      "{'profesor': 'Antonio Ossa', 'sala': 'K202', 'seccion': 2}\n",
      "{'profesor': 'Cristian Ruz', 'sala': 'K203', 'seccion': 3}\n",
      "{'profesor': 'Vicente Dominguez', 'sala': 'CS203', 'seccion': 4}\n"
     ]
    }
   ],
   "source": [
    "for seccion in secciones.json():\n",
    "    print(seccion)"
   ]
  },
  {
   "cell_type": "code",
   "execution_count": 31,
   "metadata": {},
   "outputs": [
    {
     "name": "stdout",
     "output_type": "stream",
     "text": [
      "200\n",
      "[{'correo': 'faflorenzano@uc.cl', 'nombre': 'Fernando Florenzano', 'seccion': 1, 'usuario': 'fdoflorenzano'}, {'correo': 'mjhidalgo@uc.cl', 'nombre': 'María José Hidalgo', 'seccion': 1, 'usuario': 'mjhidalgo'}, {'correo': 'jtagle2@uc.cl', 'nombre': 'Joaquín Tagle', 'seccion': 1, 'usuario': 'jtagle2'}]\n"
     ]
    }
   ],
   "source": [
    "# Podemos consultar por los alumnos de alguna seccion específica\n",
    "alumnos_seccion = requests.get(BASE_URL.format(\"secciones/1/alumnos\"))\n",
    "print(alumnos_seccion.status_code)\n",
    "print(alumnos_seccion.json())\n",
    "# Volver a ejecutar después de registrar un alumno nuevo"
   ]
  },
  {
   "cell_type": "code",
   "execution_count": 30,
   "metadata": {
    "slideshow": {
     "slide_type": "fragment"
    }
   },
   "outputs": [
    {
     "name": "stdout",
     "output_type": "stream",
     "text": [
      "201 {'correo': 'jtagle2@uc.cl', 'nombre': 'Joaquín Tagle', 'seccion': 1, 'usuario': 'jtagle2'}\n"
     ]
    }
   ],
   "source": [
    "# ¡Falta un alumno! Lo agregaré\n",
    "datos_alumno = {\n",
    "    \"nombre\": \"María José Hidalgo\",\n",
    "    \"usuario\": \"mjhidalgo\",\n",
    "    \"correo\": \"mjhidalgo@uc.cl\",\n",
    "}\n",
    "respuesta = requests.post(BASE_URL.format(\"secciones/1/alumnos\"), data=datos_alumno)\n",
    "\n",
    "print(respuesta.status_code, respuesta.json())"
   ]
  }
 ],
 "metadata": {
  "anaconda-cloud": {},
  "celltoolbar": "Slideshow",
  "kernelspec": {
   "display_name": "Python 3",
   "language": "python",
   "name": "python3"
  },
  "language_info": {
   "codemirror_mode": {
    "name": "ipython",
    "version": 3
   },
   "file_extension": ".py",
   "mimetype": "text/x-python",
   "name": "python",
   "nbconvert_exporter": "python",
   "pygments_lexer": "ipython3",
   "version": "3.7.10"
  }
 },
 "nbformat": 4,
 "nbformat_minor": 1
}
